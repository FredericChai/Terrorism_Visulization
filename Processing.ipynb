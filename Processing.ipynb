{
 "cells": [
  {
   "cell_type": "code",
   "execution_count": 10,
   "metadata": {},
   "outputs": [],
   "source": [
    "import pandas as pd\n",
    "import numpy as np\n",
    "import datetime"
   ]
  },
  {
   "cell_type": "code",
   "execution_count": 5,
   "metadata": {},
   "outputs": [
    {
     "name": "stderr",
     "output_type": "stream",
     "text": [
      "/Library/Frameworks/Python.framework/Versions/3.6/lib/python3.6/site-packages/IPython/core/interactiveshell.py:2785: DtypeWarning: Columns (3,21,22,41,42,43,54,56,64,65,80,81) have mixed types. Specify dtype option on import or set low_memory=False.\n",
      "  interactivity=interactivity, compiler=compiler, result=result)\n"
     ]
    }
   ],
   "source": [
    "data = pd.read_csv(\"/Users/chaizhizhi/Desktop/globalterrorismdb_processed.csv\", encoding='latin-1', sep=\",\", quotechar='\"', dayfirst=True)\n",
    "data[\"date\"] = pd.to_datetime(data[\"date\"], dayfirst = True, yearfirst = False)\n",
    "data[\"eventid\"] = data[\"eventid\"].astype('int')"
   ]
  },
  {
   "cell_type": "code",
   "execution_count": 6,
   "metadata": {},
   "outputs": [
    {
     "data": {
      "text/plain": [
       "Index(['eventid', 'date', 'extended', 'resolution', 'country_txt',\n",
       "       'region_txt', 'provstate', 'city', 'latitude', 'longitude',\n",
       "       'specificity', 'vicinity', 'crit1', 'crit2', 'crit3', 'doubtterr',\n",
       "       'alternative_txt', 'multiple', 'success', 'suicide', 'attacktype1_txt',\n",
       "       'attacktype2_txt', 'attacktype3_txt', 'targtype1_txt',\n",
       "       'targsubtype1_txt', 'corp1', 'target1', 'natlty1_txt', 'targtype2_txt',\n",
       "       'targsubtype2_txt', 'corp2', 'target2', 'natlty2_txt', 'targtype3_txt',\n",
       "       'targsubtype3_txt', 'corp3', 'target3', 'natlty3_txt', 'gname',\n",
       "       'gsubname', 'gname2', 'gsubname2', 'gname3', 'gsubname3', 'motive',\n",
       "       'guncertain1', 'guncertain2', 'guncertain3', 'individual', 'nperps',\n",
       "       'nperpcap', 'claimed', 'claimmode_txt', 'claim2', 'claimmode2_txt',\n",
       "       'claim3', 'claimmode3_txt', 'compclaim', 'weaptype1_txt',\n",
       "       'weapsubtype1_txt', 'weaptype2_txt', 'weapsubtype2_txt',\n",
       "       'weaptype3_txt', 'weapsubtype3_txt', 'weaptype4_txt',\n",
       "       'weapsubtype4_txt', 'nkill', 'nkillus', 'nkillter', 'nwound',\n",
       "       'nwoundus', 'nwoundte', 'property', 'propextent_txt', 'propvalue',\n",
       "       'ishostkid', 'nhostkid', 'nhostkidus', 'nhours', 'ndays', 'divert',\n",
       "       'kidhijcountry', 'ransom', 'ransomamt', 'ransomamtus', 'ransompaid',\n",
       "       'ransompaidus', 'hostkidoutcome_txt', 'nreleased', 'dbsource',\n",
       "       'INT_LOG', 'INT_IDEO', 'INT_MISC', 'INT_ANY', 'related'],\n",
       "      dtype='object')"
      ]
     },
     "execution_count": 6,
     "metadata": {},
     "output_type": "execute_result"
    }
   ],
   "source": [
    "data.columns"
   ]
  },
  {
   "cell_type": "code",
   "execution_count": 44,
   "metadata": {},
   "outputs": [],
   "source": [
    "delta = datetime.timedelta(days = 365)\n",
    "# print(data[\"date\"][1])"
   ]
  },
  {
   "cell_type": "code",
   "execution_count": 39,
   "metadata": {},
   "outputs": [
    {
     "name": "stderr",
     "output_type": "stream",
     "text": [
      "/Library/Frameworks/Python.framework/Versions/3.6/lib/python3.6/site-packages/ipykernel_launcher.py:4: UserWarning: Boolean Series key will be reindexed to match DataFrame index.\n",
      "  after removing the cwd from sys.path.\n"
     ]
    }
   ],
   "source": [
    "animation_columns = [\"eventid\", \"date\", \"latitude\", \"longitude\", \"gname\",\"nkill\",]\n",
    "animation_data = pd.DataFrame(data[animation_columns])\n",
    "animation_data = animation_data[animation_df[\"latitude\"].notna()]  # get rid of NaN\n",
    "animation_data = animation_data[animation_df[\"longitude\"].notna()]\n",
    "endDate = animation_data[\"date\"]+delta\n",
    "animation_data[\"endDate\"] = endDate\n",
    "# unixepoc = animation0_df[\"date\"].astype ( np.int64 )/100000000\n",
    "# animation0_df[\"unixepoc\"] = unixepoc.astype ( np.int64 )\n",
    "# animation0_df.to_csv(\"animation0.csv\", date_format=\"%d/%m/%Y\", index = False, quotechar='\"')"
   ]
  },
  {
   "cell_type": "code",
   "execution_count": 43,
   "metadata": {},
   "outputs": [],
   "source": [
    "animation_data.to_csv(\"animation.csv\", date_format=\"%d/%m/%Y\", index = False, quotechar='\"')"
   ]
  },
  {
   "cell_type": "code",
   "execution_count": null,
   "metadata": {},
   "outputs": [],
   "source": []
  }
 ],
 "metadata": {
  "kernelspec": {
   "display_name": "Python 3",
   "language": "python",
   "name": "python3"
  },
  "language_info": {
   "codemirror_mode": {
    "name": "ipython",
    "version": 3
   },
   "file_extension": ".py",
   "mimetype": "text/x-python",
   "name": "python",
   "nbconvert_exporter": "python",
   "pygments_lexer": "ipython3",
   "version": "3.6.5"
  }
 },
 "nbformat": 4,
 "nbformat_minor": 2
}
